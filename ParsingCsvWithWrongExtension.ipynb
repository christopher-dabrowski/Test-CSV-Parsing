{
 "cells": [
  {
   "cell_type": "code",
   "execution_count": null,
   "metadata": {
    "dotnet_interactive": {
     "language": "csharp"
    },
    "polyglot_notebook": {
     "kernelName": "csharp"
    }
   },
   "outputs": [
    {
     "name": "stdout",
     "output_type": "stream",
     "text": [
      "Hi\r\n"
     ]
    }
   ],
   "source": [
    "Console.WriteLine(\"Hi\");"
   ]
  },
  {
   "cell_type": "code",
   "execution_count": null,
   "metadata": {
    "dotnet_interactive": {
     "language": "csharp"
    },
    "polyglot_notebook": {
     "kernelName": "csharp"
    }
   },
   "outputs": [
    {
     "data": {
      "text/html": [
       "<div><div></div><div></div><div><strong>Installed Packages</strong><ul><li><span>CsvHelper, 33.0.1</span></li></ul></div></div>"
      ]
     },
     "metadata": {},
     "output_type": "display_data"
    }
   ],
   "source": [
    "#r \"nuget: CsvHelper\""
   ]
  },
  {
   "cell_type": "code",
   "execution_count": null,
   "metadata": {},
   "outputs": [],
   "source": [
    "using System;\n",
    "using System.Globalization;\n",
    "using System.IO;\n",
    "using CsvHelper;"
   ]
  },
  {
   "cell_type": "markdown",
   "metadata": {},
   "source": [
    "# Parsing CSV file with a wrong extension\n",
    "I want to test out if I'll be able to parse a CSV file if it's extensions is wrong :D"
   ]
  },
  {
   "cell_type": "code",
   "execution_count": null,
   "metadata": {},
   "outputs": [],
   "source": [
    "public class Joke\n",
    "{\n",
    "    public int ID { get; set; }\n",
    "    public string JokeText { get; set; }\n",
    "    public string Category { get; set; }\n",
    "    public int Rating { get; set; }\n",
    "}"
   ]
  },
  {
   "cell_type": "code",
   "execution_count": null,
   "metadata": {
    "dotnet_interactive": {
     "language": "csharp"
    },
    "polyglot_notebook": {
     "kernelName": "csharp"
    }
   },
   "outputs": [],
   "source": [
    "void DisplayJokes(string fileName)\n",
    "{\n",
    "    using (var reader = new StreamReader(fileName))\n",
    "    using (var csv = new CsvReader(reader, CultureInfo.InvariantCulture))\n",
    "    {\n",
    "        var jokes = csv.GetRecords<Joke>();\n",
    "\n",
    "        foreach (var joke in jokes)\n",
    "        {\n",
    "            Console.WriteLine($\"ID: {joke.ID}\");\n",
    "            Console.WriteLine($\"Joke: {joke.JokeText}\");\n",
    "            Console.WriteLine($\"Category: {joke.Category}\");\n",
    "            Console.WriteLine($\"Rating: {joke.Rating}/5\");\n",
    "            Console.WriteLine(new string('-', 30)); // Add a separator between jokes\n",
    "        }\n",
    "    }\n",
    "}"
   ]
  },
  {
   "cell_type": "code",
   "execution_count": null,
   "metadata": {},
   "outputs": [
    {
     "name": "stdout",
     "output_type": "stream",
     "text": [
      "ID: 1\n",
      "Joke: Why don't skeletons fight each other? They don't have the guts.\n",
      "Category: Dad Jokes\n",
      "Rating: 4/5\n",
      "------------------------------\n",
      "ID: 2\n",
      "Joke: What do you call fake spaghetti? An impasta!\n",
      "Category: Puns\n",
      "Rating: 5/5\n",
      "------------------------------\n",
      "ID: 3\n",
      "Joke: I told my wife she was drawing her eyebrows too high. She looked surprised.\n",
      "Category: Relationship\n",
      "Rating: 4/5\n",
      "------------------------------\n",
      "ID: 4\n",
      "Joke: Why don't some couples go to the gym? Because some relationships don't work out.\n",
      "Category: Relationship\n",
      "Rating: 3/5\n",
      "------------------------------\n",
      "ID: 5\n",
      "Joke: I'm reading a book about anti-gravity. It's impossible to put down!\n",
      "Category: Science\n",
      "Rating: 5/5\n",
      "------------------------------\n",
      "ID: 6\n",
      "Joke: What do you call cheese that isn't yours? Nacho cheese.\n",
      "Category: Food\n",
      "Rating: 4/5\n",
      "------------------------------\n",
      "ID: 7\n",
      "Joke: Parallel lines have so much in common. It’s a shame they’ll never meet.\n",
      "Category: Math\n",
      "Rating: 4/5\n",
      "------------------------------\n",
      "ID: 8\n",
      "Joke: Why did the scarecrow win an award? Because he was outstanding in his field!\n",
      "Category: Classic\n",
      "Rating: 5/5\n",
      "------------------------------\n",
      "ID: 9\n",
      "Joke: Why don't eggs tell jokes? They'd crack each other up.\n",
      "Category: Food\n",
      "Rating: 3/5\n",
      "------------------------------\n",
      "ID: 10\n",
      "Joke: I'm on a seafood diet. I see food, and I eat it.\n",
      "Category: Food\n",
      "Rating: 3/5\n",
      "------------------------------\n",
      "ID: 11\n",
      "Joke: What did one wall say to the other? I'll meet you at the corner.\n",
      "Category: Classic\n",
      "Rating: 4/5\n",
      "------------------------------\n",
      "ID: 12\n",
      "Joke: Why was the math book sad? It had too many problems.\n",
      "Category: Math\n",
      "Rating: 4/5\n",
      "------------------------------\n",
      "ID: 13\n",
      "Joke: Why did the golfer bring extra pants? In case he got a hole in one.\n",
      "Category: Sports\n",
      "Rating: 5/5\n",
      "------------------------------\n",
      "ID: 14\n",
      "Joke: Did you hear about the claustrophobic astronaut? He needed a little space.\n",
      "Category: Science\n",
      "Rating: 4/5\n",
      "------------------------------\n",
      "ID: 15\n",
      "Joke: Why did the bicycle fall over? It was two-tired.\n",
      "Category: Classic\n",
      "Rating: 3/5\n",
      "------------------------------\n",
      "ID: 16\n",
      "Joke: I used to play piano by ear, but now I use my hands.\n",
      "Category: Music\n",
      "Rating: 4/5\n",
      "------------------------------\n",
      "ID: 17\n",
      "Joke: What do you get if you cross a snowman and a vampire? Frostbite.\n",
      "Category: Seasonal\n",
      "Rating: 3/5\n",
      "------------------------------\n",
      "ID: 18\n",
      "Joke: Why don’t ants get sick? Because they have tiny ant-bodies.\n",
      "Category: Animals\n",
      "Rating: 4/5\n",
      "------------------------------\n",
      "ID: 19\n",
      "Joke: I only know 25 letters of the alphabet. I don’t know y.\n",
      "Category: Puns\n",
      "Rating: 5/5\n",
      "------------------------------\n",
      "ID: 20\n",
      "Joke: What’s orange and sounds like a parrot? A carrot.\n",
      "Category: Puns\n",
      "Rating: 5/5\n",
      "------------------------------\n"
     ]
    }
   ],
   "source": [
    "DisplayJokes(\"jokes.csv\");"
   ]
  },
  {
   "cell_type": "code",
   "execution_count": null,
   "metadata": {},
   "outputs": [
    {
     "name": "stdout",
     "output_type": "stream",
     "text": [
      "ID: 1\n",
      "Joke: Why don't skeletons fight each other? They don't have the guts.\n",
      "Category: Dad Jokes\n",
      "Rating: 4/5\n",
      "------------------------------\n",
      "ID: 2\n",
      "Joke: What do you call fake spaghetti? An impasta!\n",
      "Category: Puns\n",
      "Rating: 5/5\n",
      "------------------------------\n",
      "ID: 3\n",
      "Joke: I told my wife she was drawing her eyebrows too high. She looked surprised.\n",
      "Category: Relationship\n",
      "Rating: 4/5\n",
      "------------------------------\n",
      "ID: 4\n",
      "Joke: Why don't some couples go to the gym? Because some relationships don't work out.\n",
      "Category: Relationship\n",
      "Rating: 3/5\n",
      "------------------------------\n",
      "ID: 5\n",
      "Joke: I'm reading a book about anti-gravity. It's impossible to put down!\n",
      "Category: Science\n",
      "Rating: 5/5\n",
      "------------------------------\n",
      "ID: 6\n",
      "Joke: What do you call cheese that isn't yours? Nacho cheese.\n",
      "Category: Food\n",
      "Rating: 4/5\n",
      "------------------------------\n",
      "ID: 7\n",
      "Joke: Parallel lines have so much in common. It’s a shame they’ll never meet.\n",
      "Category: Math\n",
      "Rating: 4/5\n",
      "------------------------------\n",
      "ID: 8\n",
      "Joke: Why did the scarecrow win an award? Because he was outstanding in his field!\n",
      "Category: Classic\n",
      "Rating: 5/5\n",
      "------------------------------\n",
      "ID: 9\n",
      "Joke: Why don't eggs tell jokes? They'd crack each other up.\n",
      "Category: Food\n",
      "Rating: 3/5\n",
      "------------------------------\n",
      "ID: 10\n",
      "Joke: I'm on a seafood diet. I see food, and I eat it.\n",
      "Category: Food\n",
      "Rating: 3/5\n",
      "------------------------------\n",
      "ID: 11\n",
      "Joke: What did one wall say to the other? I'll meet you at the corner.\n",
      "Category: Classic\n",
      "Rating: 4/5\n",
      "------------------------------\n",
      "ID: 12\n",
      "Joke: Why was the math book sad? It had too many problems.\n",
      "Category: Math\n",
      "Rating: 4/5\n",
      "------------------------------\n",
      "ID: 13\n",
      "Joke: Why did the golfer bring extra pants? In case he got a hole in one.\n",
      "Category: Sports\n",
      "Rating: 5/5\n",
      "------------------------------\n",
      "ID: 14\n",
      "Joke: Did you hear about the claustrophobic astronaut? He needed a little space.\n",
      "Category: Science\n",
      "Rating: 4/5\n",
      "------------------------------\n",
      "ID: 15\n",
      "Joke: Why did the bicycle fall over? It was two-tired.\n",
      "Category: Classic\n",
      "Rating: 3/5\n",
      "------------------------------\n",
      "ID: 16\n",
      "Joke: I used to play piano by ear, but now I use my hands.\n",
      "Category: Music\n",
      "Rating: 4/5\n",
      "------------------------------\n",
      "ID: 17\n",
      "Joke: What do you get if you cross a snowman and a vampire? Frostbite.\n",
      "Category: Seasonal\n",
      "Rating: 3/5\n",
      "------------------------------\n",
      "ID: 18\n",
      "Joke: Why don’t ants get sick? Because they have tiny ant-bodies.\n",
      "Category: Animals\n",
      "Rating: 4/5\n",
      "------------------------------\n",
      "ID: 19\n",
      "Joke: I only know 25 letters of the alphabet. I don’t know y.\n",
      "Category: Puns\n",
      "Rating: 5/5\n",
      "------------------------------\n",
      "ID: 20\n",
      "Joke: What’s orange and sounds like a parrot? A carrot.\n",
      "Category: Puns\n",
      "Rating: 5/5\n",
      "------------------------------\n"
     ]
    }
   ],
   "source": [
    "DisplayJokes(\"jokes.csv.xlsx\");"
   ]
  },
  {
   "cell_type": "code",
   "execution_count": null,
   "metadata": {},
   "outputs": [
    {
     "name": "stdout",
     "output_type": "stream",
     "text": [
      "ID: 1\n",
      "Joke: Why don't skeletons fight each other? They don't have the guts.\n",
      "Category: Dad Jokes\n",
      "Rating: 4/5\n",
      "------------------------------\n",
      "ID: 2\n",
      "Joke: What do you call fake spaghetti? An impasta!\n",
      "Category: Puns\n",
      "Rating: 5/5\n",
      "------------------------------\n",
      "ID: 3\n",
      "Joke: I told my wife she was drawing her eyebrows too high. She looked surprised.\n",
      "Category: Relationship\n",
      "Rating: 4/5\n",
      "------------------------------\n",
      "ID: 4\n",
      "Joke: Why don't some couples go to the gym? Because some relationships don't work out.\n",
      "Category: Relationship\n",
      "Rating: 3/5\n",
      "------------------------------\n",
      "ID: 5\n",
      "Joke: I'm reading a book about anti-gravity. It's impossible to put down!\n",
      "Category: Science\n",
      "Rating: 5/5\n",
      "------------------------------\n",
      "ID: 6\n",
      "Joke: What do you call cheese that isn't yours? Nacho cheese.\n",
      "Category: Food\n",
      "Rating: 4/5\n",
      "------------------------------\n",
      "ID: 7\n",
      "Joke: Parallel lines have so much in common. It’s a shame they’ll never meet.\n",
      "Category: Math\n",
      "Rating: 4/5\n",
      "------------------------------\n",
      "ID: 8\n",
      "Joke: Why did the scarecrow win an award? Because he was outstanding in his field!\n",
      "Category: Classic\n",
      "Rating: 5/5\n",
      "------------------------------\n",
      "ID: 9\n",
      "Joke: Why don't eggs tell jokes? They'd crack each other up.\n",
      "Category: Food\n",
      "Rating: 3/5\n",
      "------------------------------\n",
      "ID: 10\n",
      "Joke: I'm on a seafood diet. I see food, and I eat it.\n",
      "Category: Food\n",
      "Rating: 3/5\n",
      "------------------------------\n",
      "ID: 11\n",
      "Joke: What did one wall say to the other? I'll meet you at the corner.\n",
      "Category: Classic\n",
      "Rating: 4/5\n",
      "------------------------------\n",
      "ID: 12\n",
      "Joke: Why was the math book sad? It had too many problems.\n",
      "Category: Math\n",
      "Rating: 4/5\n",
      "------------------------------\n",
      "ID: 13\n",
      "Joke: Why did the golfer bring extra pants? In case he got a hole in one.\n",
      "Category: Sports\n",
      "Rating: 5/5\n",
      "------------------------------\n",
      "ID: 14\n",
      "Joke: Did you hear about the claustrophobic astronaut? He needed a little space.\n",
      "Category: Science\n",
      "Rating: 4/5\n",
      "------------------------------\n",
      "ID: 15\n",
      "Joke: Why did the bicycle fall over? It was two-tired.\n",
      "Category: Classic\n",
      "Rating: 3/5\n",
      "------------------------------\n",
      "ID: 16\n",
      "Joke: I used to play piano by ear, but now I use my hands.\n",
      "Category: Music\n",
      "Rating: 4/5\n",
      "------------------------------\n",
      "ID: 17\n",
      "Joke: What do you get if you cross a snowman and a vampire? Frostbite.\n",
      "Category: Seasonal\n",
      "Rating: 3/5\n",
      "------------------------------\n",
      "ID: 18\n",
      "Joke: Why don’t ants get sick? Because they have tiny ant-bodies.\n",
      "Category: Animals\n",
      "Rating: 4/5\n",
      "------------------------------\n",
      "ID: 19\n",
      "Joke: I only know 25 letters of the alphabet. I don’t know y.\n",
      "Category: Puns\n",
      "Rating: 5/5\n",
      "------------------------------\n",
      "ID: 20\n",
      "Joke: What’s orange and sounds like a parrot? A carrot.\n",
      "Category: Puns\n",
      "Rating: 5/5\n",
      "------------------------------\n"
     ]
    }
   ],
   "source": [
    "DisplayJokes(\"jokes.xlsx\");"
   ]
  }
 ],
 "metadata": {
  "kernelspec": {
   "display_name": ".NET (C#)",
   "language": "C#",
   "name": ".net-csharp"
  },
  "polyglot_notebook": {
   "kernelInfo": {
    "defaultKernelName": "csharp",
    "items": [
     {
      "aliases": [],
      "languageName": "csharp",
      "name": "csharp"
     }
    ]
   }
  }
 },
 "nbformat": 4,
 "nbformat_minor": 2
}
